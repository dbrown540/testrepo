{
 "cells": [
  {
   "attachments": {},
   "cell_type": "markdown",
   "metadata": {},
   "source": [
    "# Task (1): Complete the following table with updated data:"
   ]
  },
  {
   "attachments": {},
   "cell_type": "markdown",
   "metadata": {},
   "source": [
    "### Objective 1: Determine the number of true positives, false negatives, and false positives per group in the data set."
   ]
  },
  {
   "cell_type": "code",
   "execution_count": 27,
   "metadata": {},
   "outputs": [
    {
     "data": {
      "text/plain": [
       "<matplotlib.image.AxesImage at 0x1196b6790>"
      ]
     },
     "execution_count": 27,
     "metadata": {},
     "output_type": "execute_result"
    },
    {
     "data": {
      "image/png": "[encoded data removed]",
      "text/plain": [
       "<Figure size 640x480 with 1 Axes>"
      ]
     },
     "metadata": {},
     "output_type": "display_data"
    }
   ],
   "source": [
    "from PIL import Image\n",
    "from matplotlib import pyplot as plt\n",
    "\n",
    "image_path = '/Users/developer/Desktop/Coding/Work/InsightsAI/Improved Model/images/obj1.jpeg'\n",
    "image = Image.open(image_path)\n",
    "plt.imshow(image)"
   ]
  },
  {
   "attachments": {},
   "cell_type": "markdown",
   "metadata": {},
   "source": [
    "The most relevant dataset would be statistics_basic_filter_groups.json. This dataset contains the following information:\n",
    "\n",
    "* number of tp, fp, fn for hybrid method by topic and group"
   ]
  },
  {
   "attachments": {},
   "cell_type": "markdown",
   "metadata": {},
   "source": [
    "Step 1: Load the dataset and create 5 columns: Topic, Group, TP, FP, FN. "
   ]
  },
  {
   "cell_type": "code",
   "execution_count": 28,
   "metadata": {},
   "outputs": [
    {
     "name": "stdout",
     "output_type": "stream",
     "text": [
      "                            Topic Group  True Positive  False Positive   \n",
      "0    7_REGULATORY_IMPACT_ANALYSIS    g1             21               4  \\\n",
      "1    7_REGULATORY_IMPACT_ANALYSIS    g2            104              31   \n",
      "2    7_REGULATORY_IMPACT_ANALYSIS    g3            447             202   \n",
      "3  2E_VALUATION_OF_SPECIFIC_CODES    g1             33               1   \n",
      "4  2E_VALUATION_OF_SPECIFIC_CODES    g2            118              15   \n",
      "\n",
      "   False Negative  \n",
      "0               1  \n",
      "1               6  \n",
      "2             121  \n",
      "3               1  \n",
      "4              16  \n"
     ]
    }
   ],
   "source": [
    "import pandas as pd\n",
    "\n",
    "# Load the JSON file\n",
    "data = pd.read_json('/Users/developer/Desktop/Coding/Work/InsightsAI/Improved Model/json/statistics_basic_filter_groups.json')\n",
    "\n",
    "# Create empty lists to store the extracted data\n",
    "topics = []\n",
    "groups = []\n",
    "true_positives = []\n",
    "false_positives = []\n",
    "false_negatives = []\n",
    "\n",
    "# Iterate over the data dictionary and extract the values\n",
    "for topic, groups_dict in data.items():\n",
    "    for group, values in groups_dict.items():\n",
    "        topics.append(topic)\n",
    "        groups.append(group)\n",
    "        true_positives.append(values['tp'])\n",
    "        false_positives.append(values['fp'])\n",
    "        false_negatives.append(values['fn'])\n",
    "\n",
    "# Create a DataFrame from the extracted data\n",
    "df = pd.DataFrame({\n",
    "    'Topic': topics,\n",
    "    'Group': groups,\n",
    "    'True Positive': true_positives,\n",
    "    'False Positive': false_positives,\n",
    "    'False Negative': false_negatives\n",
    "})\n",
    "\n",
    "# Print the resulting DataFrame\n",
    "\n",
    "print(df.head())"
   ]
  },
  {
   "attachments": {},
   "cell_type": "markdown",
   "metadata": {},
   "source": [
    "Step 2: Count the number of true positives for each group"
   ]
  },
  {
   "cell_type": "code",
   "execution_count": 29,
   "metadata": {},
   "outputs": [
    {
     "name": "stdout",
     "output_type": "stream",
     "text": [
      "Group\n",
      "g1     243\n",
      "g2    1110\n",
      "g3    3648\n",
      "Name: True Positive, dtype: int64\n"
     ]
    }
   ],
   "source": [
    "total_true_positive = df.groupby('Group')['True Positive'].sum()\n",
    "print(total_true_positive)"
   ]
  },
  {
   "attachments": {},
   "cell_type": "markdown",
   "metadata": {},
   "source": [
    "Step 3: Count the number of false positives for each group"
   ]
  },
  {
   "cell_type": "code",
   "execution_count": 30,
   "metadata": {},
   "outputs": [
    {
     "name": "stdout",
     "output_type": "stream",
     "text": [
      "Group\n",
      "g1      83\n",
      "g2     354\n",
      "g3    1093\n",
      "Name: False Positive, dtype: int64\n"
     ]
    }
   ],
   "source": [
    "total_false_positive = df.groupby('Group')['False Positive'].sum()\n",
    "print(total_false_positive)"
   ]
  },
  {
   "attachments": {},
   "cell_type": "markdown",
   "metadata": {},
   "source": [
    "Step 4: Count the number of false negatives for each group"
   ]
  },
  {
   "cell_type": "code",
   "execution_count": 31,
   "metadata": {},
   "outputs": [
    {
     "name": "stdout",
     "output_type": "stream",
     "text": [
      "Group\n",
      "g1     46\n",
      "g2    170\n",
      "g3    869\n",
      "Name: False Negative, dtype: int64\n"
     ]
    }
   ],
   "source": [
    "total_false_negative = df.groupby('Group')['False Negative'].sum()\n",
    "print(total_false_negative)"
   ]
  },
  {
   "attachments": {},
   "cell_type": "markdown",
   "metadata": {},
   "source": [
    "Initialize and populate a new dataframe called summary_df that contains the values from steps 2, 3, and 4."
   ]
  },
  {
   "cell_type": "code",
   "execution_count": 33,
   "metadata": {},
   "outputs": [
    {
     "name": "stdout",
     "output_type": "stream",
     "text": [
      "       True Positive  False Positive  False Negative\n",
      "Group                                               \n",
      "g1               243              83              46\n",
      "g2              1110             354             170\n",
      "g3              3648            1093             869\n"
     ]
    }
   ],
   "source": [
    "summary_df = pd.DataFrame({\n",
    "    'True Positive': total_true_positive,\n",
    "    'False Positive': total_false_positive,\n",
    "    'False Negative': total_false_negative\n",
    "})\n",
    "\n",
    "print(summary_df)"
   ]
  },
  {
   "attachments": {},
   "cell_type": "markdown",
   "metadata": {},
   "source": [
    "### Objective 2: Determine Hybrid Topic Level Accuracy"
   ]
  },
  {
   "cell_type": "markdown",
   "metadata": {},
   "source": []
  }
 ],
 "metadata": {
  "kernelspec": {
   "display_name": "Python 3",
   "language": "python",
   "name": "python3"
  },
  "language_info": {
   "codemirror_mode": {
    "name": "ipython",
    "version": 3
   },
   "file_extension": ".py",
   "mimetype": "text/x-python",
   "name": "python",
   "nbconvert_exporter": "python",
   "pygments_lexer": "ipython3",
   "version": "3.11.3"
  },
  "orig_nbformat": 4
 },
 "nbformat": 4,
 "nbformat_minor": 2
}
